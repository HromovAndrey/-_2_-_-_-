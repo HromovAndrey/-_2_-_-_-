{
  "nbformat": 4,
  "nbformat_minor": 0,
  "metadata": {
    "colab": {
      "provenance": [],
      "toc_visible": true,
      "include_colab_link": true
    },
    "kernelspec": {
      "name": "python3",
      "display_name": "Python 3"
    },
    "language_info": {
      "name": "python"
    }
  },
  "cells": [
    {
      "cell_type": "markdown",
      "metadata": {
        "id": "view-in-github",
        "colab_type": "text"
      },
      "source": [
        "<a href=\"https://colab.research.google.com/github/HromovAndrey/-_2_-_-_-/blob/main/%D0%94%D0%97_2.ipynb\" target=\"_parent\"><img src=\"https://colab.research.google.com/assets/colab-badge.svg\" alt=\"Open In Colab\"/></a>"
      ]
    },
    {
      "cell_type": "markdown",
      "source": [
        "Імпортуйте модуль numpy"
      ],
      "metadata": {
        "id": "tk2sNnUDkXK9"
      }
    },
    {
      "cell_type": "code",
      "source": [
        "import numpy as np"
      ],
      "metadata": {
        "id": "1QbCsQ62kUmZ"
      },
      "execution_count": 1,
      "outputs": []
    },
    {
      "cell_type": "markdown",
      "source": [
        "#Завдання 1\n",
        "\n",
        "Створіть масив з парними числами між 30 і 70"
      ],
      "metadata": {
        "id": "ZVC4Yb3JZFO1"
      }
    },
    {
      "cell_type": "code",
      "source": [
        "a = np.arange(30, 71, 2)\n",
        "print(a)"
      ],
      "metadata": {
        "id": "aunm4Jm_hUkL",
        "outputId": "0a2f5c15-37c9-48f2-9d4d-e11ea3fc761a",
        "colab": {
          "base_uri": "https://localhost:8080/"
        }
      },
      "execution_count": 3,
      "outputs": [
        {
          "output_type": "stream",
          "name": "stdout",
          "text": [
            "[30 32 34 36 38 40 42 44 46 48 50 52 54 56 58 60 62 64 66 68 70]\n"
          ]
        }
      ]
    },
    {
      "cell_type": "markdown",
      "source": [
        "#Завдання 2\n",
        "Створіть масив з 10 числами між 0(включно) та 1(не включно) див документацію"
      ],
      "metadata": {
        "id": "UDSLr3f0b31r"
      }
    },
    {
      "cell_type": "code",
      "source": [
        "b = np.linspace(0, 1, 11, endpoint=False)[1:]\n",
        "print(b)\n"
      ],
      "metadata": {
        "id": "w7iNkGd_hUM-",
        "outputId": "722412d2-bb25-4acb-af5a-7abbb9cbb231",
        "colab": {
          "base_uri": "https://localhost:8080/"
        }
      },
      "execution_count": 4,
      "outputs": [
        {
          "output_type": "stream",
          "name": "stdout",
          "text": [
            "[0.09090909 0.18181818 0.27272727 0.36363636 0.45454545 0.54545455\n",
            " 0.63636364 0.72727273 0.81818182 0.90909091]\n"
          ]
        }
      ]
    },
    {
      "cell_type": "code",
      "source": [
        "a = np.linspace(0., 1., num=10)\n",
        "print(a)"
      ],
      "metadata": {
        "colab": {
          "base_uri": "https://localhost:8080/"
        },
        "id": "LUBVsCHZ92qf",
        "outputId": "ca40745a-85d0-4ebd-cac2-bb9f461666df"
      },
      "execution_count": 5,
      "outputs": [
        {
          "output_type": "stream",
          "name": "stdout",
          "text": [
            "[0.         0.11111111 0.22222222 0.33333333 0.44444444 0.55555556\n",
            " 0.66666667 0.77777778 0.88888889 1.        ]\n"
          ]
        }
      ]
    },
    {
      "cell_type": "markdown",
      "source": [
        "#Завдання 4\n",
        "Напишіть функцію яка приймає матрицю розміру nxn та повертає матрицю розміру (n+2) x (n+2), на краях якої розміщенні 0."
      ],
      "metadata": {
        "id": "rtWKmLWhYi_j"
      }
    },
    {
      "cell_type": "code",
      "source": [
        "matrix = np.array([[1, 2], [3, 4]])\n",
        "n = matrix.shape[0]\n",
        "new_matrix = np.zeros((n + 2, n + 2), dtype=matrix.dtype)\n",
        "new_matrix[1:n+1, 1:n+1] = matrix\n",
        "print(new_matrix)"
      ],
      "metadata": {
        "id": "mU7vjsnqhVfk",
        "colab": {
          "base_uri": "https://localhost:8080/"
        },
        "outputId": "6bd1df98-2b6f-4e5d-f5a9-a2ebb9179687"
      },
      "execution_count": 8,
      "outputs": [
        {
          "output_type": "stream",
          "name": "stdout",
          "text": [
            "[[0 0 0 0]\n",
            " [0 1 2 0]\n",
            " [0 3 4 0]\n",
            " [0 0 0 0]]\n"
          ]
        }
      ]
    },
    {
      "cell_type": "markdown",
      "source": [
        "#Завдання 5\n",
        "У попередьньому масиві змініть тип даних. Виведіть тип даних до та після зміни"
      ],
      "metadata": {
        "id": "ok_hMAEJa9oh"
      }
    },
    {
      "cell_type": "code",
      "source": [
        "matrix = np.array([[1, 2], [3, 4]])\n",
        "n = matrix.shape[0]\n",
        "new_matrix = np.zeros((n + 2, n + 2), dtype=matrix.dtype)\n",
        "new_matrix[1:n+1, 1:n+1] = matrix\n",
        "print(\"Новая матрица до изменения типа данных:\")\n",
        "print(new_matrix)\n",
        "print(\"Тип данных до изменения:\", new_matrix.dtype)\n",
        "new_matrix = new_matrix.astype(float)\n",
        "print(\"\\nНовая матрица после изменения типа данных:\")\n",
        "print(new_matrix)\n",
        "print(\"Тип данных после изменения:\", new_matrix.dtype)\n",
        "\n"
      ],
      "metadata": {
        "id": "vYlj3r3ShV98",
        "outputId": "1c04e789-890c-4fe3-cc19-715f24edf49b",
        "colab": {
          "base_uri": "https://localhost:8080/"
        }
      },
      "execution_count": 9,
      "outputs": [
        {
          "output_type": "stream",
          "name": "stdout",
          "text": [
            "Новая матрица до изменения типа данных:\n",
            "[[0 0 0 0]\n",
            " [0 1 2 0]\n",
            " [0 3 4 0]\n",
            " [0 0 0 0]]\n",
            "Тип данных до изменения: int64\n",
            "\n",
            "Новая матрица после изменения типа данных:\n",
            "[[0. 0. 0. 0.]\n",
            " [0. 1. 2. 0.]\n",
            " [0. 3. 4. 0.]\n",
            " [0. 0. 0. 0.]]\n",
            "Тип данных после изменения: float64\n"
          ]
        }
      ]
    },
    {
      "cell_type": "markdown",
      "source": [
        "#Завдання 6\n",
        "У даному масиві замініть елементи, які дорівнюють\\більші\\менші за var на -1"
      ],
      "metadata": {
        "id": "aR7TWyqgZUDg"
      }
    },
    {
      "cell_type": "code",
      "source": [
        "x = np.array([1, 5, 3, 8, 6, 5, 7, 4])\n",
        "var = 5\n",
        "q = x.copy()\n",
        "q[q == var] = -1\n",
        "q[q > var] = -1\n",
        "q[q < var] = -1\n",
        "print(x)\n",
        "print(q)\n"
      ],
      "metadata": {
        "id": "oPzL69Fbg2Wq",
        "outputId": "b61d91b0-4bcf-4184-cac7-238add369ba0",
        "colab": {
          "base_uri": "https://localhost:8080/"
        }
      },
      "execution_count": 14,
      "outputs": [
        {
          "output_type": "stream",
          "name": "stdout",
          "text": [
            "[1 5 3 8 6 5 7 4]\n",
            "[-1 -1 -1 -1 -1 -1 -1 -1]\n"
          ]
        }
      ]
    },
    {
      "cell_type": "markdown",
      "source": [
        "#Завдання 7\n",
        "Замініть пропущені значення матриці(np.nan) на -1\n",
        "\n",
        "Дивись np.isnan"
      ],
      "metadata": {
        "id": "Ks3Rtc7kajMJ"
      }
    },
    {
      "cell_type": "code",
      "source": [
        "X = np.array([[1, 2, np.nan, 4],\n",
        "              [5, np.nan, np.nan, 4],\n",
        "              [np.nan, 10, 11, np.nan]])\n",
        "X[np.isnan(X)] = -1\n",
        "print(X)"
      ],
      "metadata": {
        "id": "Rr8CdINEg3Rj",
        "outputId": "bcf877d6-1d34-4deb-f953-e8b0d51e2fa2",
        "colab": {
          "base_uri": "https://localhost:8080/"
        }
      },
      "execution_count": 15,
      "outputs": [
        {
          "output_type": "stream",
          "name": "stdout",
          "text": [
            "[[ 1.  2. -1.  4.]\n",
            " [ 5. -1. -1.  4.]\n",
            " [-1. 10. 11. -1.]]\n"
          ]
        }
      ]
    },
    {
      "cell_type": "markdown",
      "source": [
        "#Завдання 8\n",
        "Створіть матрицю розміру 4х6 з випадковими числами. Змініть її розмір на 3х8"
      ],
      "metadata": {
        "id": "teYwjikMa0gs"
      }
    },
    {
      "cell_type": "code",
      "source": [
        "f = np.random.rand(4,6)\n",
        "z = np.reshape(f,(3,8))\n",
        "print(f)\n",
        "print(z)"
      ],
      "metadata": {
        "id": "JhNvUJwxhXED",
        "outputId": "0daea49a-23f0-4b8e-e2fa-e563825bdb15",
        "colab": {
          "base_uri": "https://localhost:8080/"
        }
      },
      "execution_count": 21,
      "outputs": [
        {
          "output_type": "stream",
          "name": "stdout",
          "text": [
            "[[0.10508539 0.66861217 0.29618294 0.96101143 0.98553222 0.25137443]\n",
            " [0.8637326  0.08777198 0.19295569 0.48966721 0.68480269 0.37932392]\n",
            " [0.20345207 0.52200135 0.91886122 0.2286542  0.61409397 0.92137504]\n",
            " [0.04150235 0.42595474 0.31598777 0.50203192 0.10169939 0.76676518]]\n",
            "[[0.10508539 0.66861217 0.29618294 0.96101143 0.98553222 0.25137443\n",
            "  0.8637326  0.08777198]\n",
            " [0.19295569 0.48966721 0.68480269 0.37932392 0.20345207 0.52200135\n",
            "  0.91886122 0.2286542 ]\n",
            " [0.61409397 0.92137504 0.04150235 0.42595474 0.31598777 0.50203192\n",
            "  0.10169939 0.76676518]]\n"
          ]
        }
      ]
    },
    {
      "cell_type": "markdown",
      "source": [
        "#Завдання 9\n",
        "Створіть матрицю з одиниць розміром 3х4. Знайдіть середнє арифметичне(mean) кожного стовпчика"
      ],
      "metadata": {
        "id": "jVE8280acszi"
      }
    },
    {
      "cell_type": "code",
      "source": [
        "c = np.ones((3,4))\n",
        "v = np.mean(c, axis=0)\n",
        "print(c)\n",
        "print(v)\n"
      ],
      "metadata": {
        "id": "5QI6HPNHhXd4",
        "outputId": "93c926ee-d648-4b0b-b2c0-71af6e13618d",
        "colab": {
          "base_uri": "https://localhost:8080/"
        }
      },
      "execution_count": 24,
      "outputs": [
        {
          "output_type": "stream",
          "name": "stdout",
          "text": [
            "[[1. 1. 1. 1.]\n",
            " [1. 1. 1. 1.]\n",
            " [1. 1. 1. 1.]]\n",
            "[1. 1. 1. 1.]\n"
          ]
        }
      ]
    },
    {
      "cell_type": "markdown",
      "source": [
        "#Завдання 10\n",
        "Створіть випадкову матрицю розміром 5х6. Округліть значення до одного знаку після коми(np.round). Розмістіть стовпчики так, щоб значення в першому рядку були відсортовані за зростанням"
      ],
      "metadata": {
        "id": "nK6LwLjfc9aC"
      }
    },
    {
      "cell_type": "code",
      "source": [
        "n = np.random.rand(5,6)\n",
        "m = np.round(n, 1)\n",
        "sorted_indices = np.argsort(m[0])\n",
        "sorted_matrix = m[:,sorted_indices]\n",
        "print(n)\n",
        "print(m)\n",
        "print(sorted_matrix)"
      ],
      "metadata": {
        "id": "pERBNp12hX58",
        "outputId": "d05e4d09-41b7-4f79-9df4-834871bc7bc3",
        "colab": {
          "base_uri": "https://localhost:8080/"
        }
      },
      "execution_count": 25,
      "outputs": [
        {
          "output_type": "stream",
          "name": "stdout",
          "text": [
            "[[0.22038048 0.17790232 0.50559774 0.4586858  0.63325713 0.24884418]\n",
            " [0.34026569 0.41843096 0.26041404 0.80493678 0.03780223 0.12030495]\n",
            " [0.09031404 0.31598893 0.39301717 0.87498291 0.77760522 0.40462098]\n",
            " [0.24730407 0.8817153  0.62872401 0.29143053 0.22905122 0.07255703]\n",
            " [0.01736395 0.88188135 0.58394523 0.99223547 0.97578687 0.86253128]]\n",
            "[[0.2 0.2 0.5 0.5 0.6 0.2]\n",
            " [0.3 0.4 0.3 0.8 0.  0.1]\n",
            " [0.1 0.3 0.4 0.9 0.8 0.4]\n",
            " [0.2 0.9 0.6 0.3 0.2 0.1]\n",
            " [0.  0.9 0.6 1.  1.  0.9]]\n",
            "[[0.2 0.2 0.2 0.5 0.5 0.6]\n",
            " [0.3 0.4 0.1 0.3 0.8 0. ]\n",
            " [0.1 0.3 0.4 0.4 0.9 0.8]\n",
            " [0.2 0.9 0.1 0.6 0.3 0.2]\n",
            " [0.  0.9 0.9 0.6 1.  1. ]]\n"
          ]
        }
      ]
    },
    {
      "cell_type": "markdown",
      "source": [
        "#Завдання 11\n",
        "В даній матриці знайдіть всі елементи зі значенням між 3 і 6\n",
        "\n",
        "Дивись документацію np.logical_and"
      ],
      "metadata": {
        "id": "faCqq4bxiXsg"
      }
    },
    {
      "cell_type": "code",
      "source": [
        "X = np.array([[1, 2, 3, 4, 5],\n",
        "              [6, 7, 8, 9, 10],\n",
        "              [9, 8, 7, 6, 5],\n",
        "              [4, 3, 2, 1, 0]])\n",
        "g = np.logical_and(X >= 3, X <= 6)\n",
        "result = X[g]\n",
        "print(result)"
      ],
      "metadata": {
        "id": "01ZY_c-tilOF",
        "outputId": "b5491041-85e3-4bcf-bedc-ecabde9d89f7",
        "colab": {
          "base_uri": "https://localhost:8080/"
        }
      },
      "execution_count": 26,
      "outputs": [
        {
          "output_type": "stream",
          "name": "stdout",
          "text": [
            "[3 4 5 6 6 5 4 3]\n"
          ]
        }
      ]
    },
    {
      "cell_type": "markdown",
      "source": [
        "#Завдання 12\n",
        "Створіть випадкову матрицю розміру 5х6. Нормалізуйте стовпчики: від кожного елемента ставпчика відніміть мінімальне значення та поділіть результат на різницю між максимальним та мінімальним елементом цього стовпчика.\n",
        "\n",
        "Після цього всі значення мають бути в межах [0, 1]"
      ],
      "metadata": {
        "id": "cCZSaa3DMKxb"
      }
    },
    {
      "cell_type": "code",
      "source": [
        "h = np.random.rand(5,6)\n",
        "\n",
        "min_values = np.min(matrix, axis=0)\n",
        "max_values = np.max(matrix, axis=0)\n",
        "normalized_matrix = (matrix - min_values) / (max_values - min_values)\n",
        "print(h)\n",
        "print(normalized_matrix)"
      ],
      "metadata": {
        "id": "qnOYOAgOMqRi",
        "outputId": "5c4ab7a7-7177-4269-9a23-34d2fe4a175f",
        "colab": {
          "base_uri": "https://localhost:8080/"
        }
      },
      "execution_count": 27,
      "outputs": [
        {
          "output_type": "stream",
          "name": "stdout",
          "text": [
            "[[0.50621785 0.17288196 0.06310469 0.04748794 0.08106937 0.32923406]\n",
            " [0.05064957 0.12215419 0.01590817 0.5654449  0.33292589 0.12167243]\n",
            " [0.05735832 0.26684873 0.01352698 0.97055612 0.64076378 0.12274817]\n",
            " [0.22729029 0.31514675 0.54135414 0.12462277 0.10580301 0.45896485]\n",
            " [0.27268291 0.32123763 0.61792867 0.64348669 0.3770867  0.83559696]]\n",
            "[[0. 0.]\n",
            " [1. 1.]]\n"
          ]
        }
      ]
    }
  ]
}